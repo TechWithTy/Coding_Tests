{
  "nbformat": 4,
  "nbformat_minor": 0,
  "metadata": {
    "colab": {
      "provenance": [],
      "toc_visible": true,
      "collapsed_sections": [
        "vL8ssHKRVR9O"
      ],
      "authorship_tag": "ABX9TyO1vWcEndtAw1ftd1/Zg5Lj",
      "include_colab_link": true
    },
    "kernelspec": {
      "name": "python3",
      "display_name": "Python 3"
    },
    "language_info": {
      "name": "python"
    }
  },
  "cells": [
    {
      "cell_type": "markdown",
      "metadata": {
        "id": "view-in-github",
        "colab_type": "text"
      },
      "source": [
        "<a href=\"https://colab.research.google.com/github/TechWithTy/Coding_Tests/blob/Dish_Network_02_23/AutomationScrum_Test.ipynb\" target=\"_parent\"><img src=\"https://colab.research.google.com/assets/colab-badge.svg\" alt=\"Open In Colab\"/></a>"
      ]
    },
    {
      "cell_type": "markdown",
      "source": [
        "#Before Getting Started\n",
        "\n",
        "**Understand the problem**:\n",
        "We need to write Python code to solve several problems such as determining if a pair of words are anagrams, calculating the sum of even numbers in a list of integers, finding the maximum sum of any contiguous subarray of a list of integers, and processing a large set of MAC addresses using a RESTful API.\n",
        "\n",
        "**Break down the problem into smaller steps:**\n",
        "\n",
        "**Anagram**: we need to write a function that takes in two words and determines if they are anagrams by comparing the sorted versions of each word.\n",
        "\n",
        "**Sum of even numbers**: we need to write a function that takes in a list of integers and returns the sum of all even numbers in the list.\n",
        "\n",
        "**Maximum sum of any contiguous subarray**: we need to write a function that takes in a list of integers and returns the maximum sum of any contiguous subarray of the list.\n",
        "Processing MAC addresses: we need to write a function that takes in a list of MAC addresses, and processes them using a pool of worker processes to minimize runtime and resource usage.\n",
        "\n",
        "**Define the inputs and outputs**:\n",
        "\n",
        "**Anagram**: The input is two words, and the output is a boolean value indicating if they are anagrams.\n",
        "Sum of even numbers: The input is a list of integers, and the output is an integer representing the sum of all even numbers in the list.\n",
        "\n",
        "**Maximum sum of any contiguous subarray**: The input is a list of integers, and the output is an integer representing the maximum sum of any contiguous subarray of the list.\n",
        "Processing MAC addresses: The input is a list of MAC addresses, and the output is a list of strings representing the response from the API for each MAC address.\n",
        "\n",
        "**Use descriptive language**:\n",
        "We will write Python code using best practices such as dry . The code will also have the best big O notation to ensure it runs the fastest. We will use type checking with testing, specifically the pytest library to create a test. We will implement a multiprocessing approach to minimize runtime and resource usage.\n",
        "\n",
        "**Number the steps**:\n",
        "\n",
        "\n",
        "*   *steps*\n",
        "\n",
        "1-Write a function to determine if two words are anagrams.\n",
        "\n",
        "2-Write a function to calculate the sum of even numbers in a list of integers.\n",
        "\n",
        "3-Write a function to find the maximum sum of any contiguous subarray of a list of integers.\n",
        "\n",
        "4-Write a function to process a list of MAC addresses using a pool of worker processes.\n",
        "\n",
        "5-Test each function using the pytest library.\n",
        "*   *steps*\n",
        "\n",
        "\n",
        "\n",
        "***Review and refine***:\n",
        "Once we have completed the above steps, we will review and refine the code to ensure it is optimized for performance and adheres to best practices. We will also ensure that the code is easy to read and understand for other developers who may need to work with it in the future."
      ],
      "metadata": {
        "id": "alEKQQYSdEqW"
      }
    },
    {
      "cell_type": "markdown",
      "source": [
        "# Getting Started "
      ],
      "metadata": {
        "id": "TBDJg9MJfHVl"
      }
    },
    {
      "cell_type": "markdown",
      "source": [
        "import a file called mac_addresses in the **root** of the project with valid mac addresss you want to check."
      ],
      "metadata": {
        "id": "b5HS1l9StZPw"
      }
    },
    {
      "cell_type": "code",
      "source": [
        "#@title Import Libraries\n",
        "\n",
        "from collections import Counter\n",
        "import requests\n",
        "from multiprocessing import Pool\n",
        "from typing import List\n",
        "\n",
        "init_quotes = [    \"Success is not final, failure is not fatal: it is the courage to continue that counts. - Winston Churchill\",    \"I have not failed. I've just found 10,000 ways that won't work. - Thomas Edison\",    \"Success consists of going from failure to failure without loss of enthusiasm. - Winston Churchill\",    \"Only those who dare to fail greatly can ever achieve greatly. - Robert F. Kennedy\",    \"It is hard to fail, but it is worse never to have tried to succeed. - Theodore Roosevelt\",    \"Failure is the condiment that gives success its flavor. - Truman Capote\",    \"Success is stumbling from failure to failure with no loss of enthusiasm. - Winston Churchill\",    \"There is only one thing that makes a dream impossible to achieve: the fear of failure. - Paulo Coelho\",    \"Don't be afraid of failure; be afraid of petty success. - Maude Adams\",    \"I've missed more than 9000 shots in my career. I've lost almost 300 games. 26 times I've been trusted to take the game winning shot and missed. I've failed over and over and over again in my life. And that is why I succeed. - Michael Jordan\"]\n",
        "\n"
      ],
      "metadata": {
        "id": "F2wSf01XSB-u"
      },
      "execution_count": 6,
      "outputs": []
    },
    {
      "cell_type": "markdown",
      "source": [
        "# Main Function"
      ],
      "metadata": {
        "id": "2N1yvjAQN1Uc"
      }
    },
    {
      "cell_type": "markdown",
      "source": [
        "Go to Freelancer.com/search and enter your perfect search criteria \n",
        "\n",
        "Takes in a Url Parameter To fetch job types\n",
        "\n",
        "Like https://www.freelancer.com/search/projects?projectSkills=9,20,69,77,116,502,759,873,875,913,1031,1042,1167,2752&projectLanguages=en&types=fixed    \n",
        "\n",
        "Paste perfect Url Here:\n"
      ],
      "metadata": {
        "id": "BT6fmmRXOG0M"
      }
    },
    {
      "cell_type": "code",
      "source": [
        "\n",
        "\n",
        "\n",
        "import requests\n",
        "from bs4 import BeautifulSoup\n",
        "from typing import Union,List\n",
        "import requests\n",
        "import time\n",
        "import math\n",
        "import re\n",
        "from tabulate import tabulate\n",
        "import builtins\n",
        "from typing import Dict\n",
        "from forex_python.converter import CurrencyRates\n",
        "from playwright.async_api import Playwright, async_playwright\n",
        "from ctypes import Array\n",
        "from requests.api import get\n",
        "c = CurrencyRates()\n",
        "\n",
        "\n",
        "# This code imports the builtins module and creates a list of common error names.\n",
        "# It then loops through the list and checks if each name is an attribute of the builtins\n",
        "# module using the hasattr() built-in function. If the name is found in builtins, it is\n",
        "# printed to the console.\n",
        "#\n",
        "# This provides a simple way to access the names of common coding errors in Python.\n",
        "# If you need more specific or detailed information about each error, you may want\n",
        "# to consult the Python documentation or other resources.\n",
        "\n",
        "BLACK = '\\033[30m'\n",
        "RED = '\\033[31m'\n",
        "GREEN = '\\033[32m'\n",
        "YELLOW = '\\033[33m'\n",
        "BLUE = '\\033[34m'\n",
        "MAGENTA = '\\033[35m'\n",
        "CYAN = '\\033[36m'\n",
        "WHITE = '\\033[37m'\n",
        "\n",
        "error_names = [\n",
        "    \"SyntaxError\",\n",
        "    \"TypeError\",\n",
        "    \"NameError\",\n",
        "    \"IndexError\",\n",
        "    \"ValueError\",\n",
        "    \"KeyError\",\n",
        "    \"AttributeError\",\n",
        "    \"IndentationError\",\n",
        "    \"TabError\",\n",
        "    \"OverflowError\",\n",
        "    \"ZeroDivisionError\",\n",
        "    \"MemoryError\",\n",
        "    \"ImportError\",\n",
        "    \"ModuleNotFoundError\",\n",
        "    \"AssertionError\",\n",
        "    \"NotImplementedError\",\n",
        "    \"RecursionError\",\n",
        "    \"FileNotFoundError\",\n",
        "    \"IOError\",\n",
        "    \"UnboundLocalError\",\n",
        "]\n",
        "\n",
        "#print color\n",
        "def make_table(string: str ,data: list):\n",
        "  print(string,tabulate(data, headers=\"keys\" ))\n",
        "\n",
        "\n",
        "\n",
        "def check_errors_in_string(string: str):\n",
        "        if hasattr(builtins, string):\n",
        "            return string\n",
        "\n",
        "    # for name in error_names:\n",
        "    #     if name in string:\n",
        "    #         return name\n",
        "        return False\n",
        "        \n",
        "# def ps( text: str = \"No Additional Info Added\",color: str = BLACK,data: List = []):\n",
        "#   is_success =  BLUE\n",
        "#   errors = check_errors_in_string(text)\n",
        "#   if(data and len(data) > 10):\n",
        "#     is_success = GREEN if errors == False else RED\n",
        "#     print(f\"{color}\\n{text}\\033[0m\",f\"{is_success}\\n{make_table(text,data)}\\033]0m\")\n",
        "#   else:\n",
        "#     print(f\"{color}\\n{text}\\033[0m\",f\"{is_success}\\n{init_quotes[ random.randint(0, 9)]}\\033]0m\")\n",
        "\n",
        "  \n",
        "\n",
        "\n"
      ],
      "metadata": {
        "id": "9eEp-P9PT1KE"
      },
      "execution_count": null,
      "outputs": []
    },
    {
      "cell_type": "code",
      "source": [
        "\n",
        "\n",
        "\n",
        "\n",
        "#Main Functions\n",
        "\n",
        "\n",
        "convert_to = 'USD'\n",
        "def convert_currency(curr_str: str, amount: str) -> str:\n",
        "      if amount:\n",
        "        currency_value = amount\n",
        "      else:\n",
        "        currency_value = \"0\"  \n",
        "      print(currency_value,\"curency_value\")\n",
        "      # Define the currency string\n",
        "      currency_code = curr_str\n",
        "      \n",
        "      # Convert the currency value to USD\n",
        "      if currency_code != convert_to:\n",
        "          usd_value = c.convert(currency_code, convert_to, float(currency_value))\n",
        "      else:\n",
        "          print(\"CV\",currency_value)\n",
        "          usd_value = float(currency_value)\n",
        "      print('convert_currency function:',\"!Converted!\")\n",
        "      print('convert_currency function:',f\"\\033[1;31mUSD {usd_value:.2f}\\033[0m\")\n",
        "      return usd_value\n",
        "\n",
        "def calculate_bid_score(num_bids, avg_bid_price):\n",
        "    \n",
        "    bid_score = 0\n",
        "    \n",
        "    # Calculate bid penalty score\n",
        "    print('calculate bid score',num_bids,avg_bid_price, 'num_bids,avg_bid_price')\n",
        "    if num_bids <= 5:\n",
        "        bid_score = 70\n",
        "    else:\n",
        "        bid_penalty_score = 30 - (num_bids - 5) * 2\n",
        "        bid_score = max(bid_penalty_score, 30)\n",
        "    \n",
        "    # Calculate bid price bonus score\n",
        "    if avg_bid_price >= 1000:\n",
        "        bid_score += 30\n",
        "    elif 500 <= avg_bid_price < 1000:\n",
        "        bid_score += 20\n",
        "    elif 100 <= avg_bid_price < 500:\n",
        "        bid_score += 10\n",
        "    \n",
        "    # Return final bid score as a percentage out of 100\n",
        "    return min(bid_score, 100)\n",
        "\n",
        "def calculate_review_score(review_score, num_reviews):\n",
        "    if(review_score == 0):\n",
        "      return num_reviews\n",
        "    if(num_reviews == 0):\n",
        "      return review_score\n",
        "    print('calculate reviews function:',review_score,num_reviews,'review_score,num_reviews')\n",
        "    average_score = review_score / num_reviews\n",
        "    score_out_of_100 = round(average_score * 20)\n",
        "    return str(score_out_of_100)\n",
        "\n",
        "def return_numbers(string):\n",
        "    temp_string = '.'.join(re.findall(r'\\d+', string))\n",
        "    period_pattern = r\"\\..*\\.\"\n",
        "    # search for the pattern in the string\n",
        "    match = re.search(period_pattern, string)\n",
        "    print(\"Return Number function:\",temp_string)\n",
        "    last_period_index = string.rfind('.')\n",
        "    temp_comma = temp_string.replace('.', ',', last_period_index)\n",
        "    # Replace all periods with commas except for the last one\n",
        "    if(len(temp_string) > 0  and not bool):\n",
        "      return temp_string\n",
        "    else:  \n",
        "        return '0'\n",
        "    if(len(temp_string) > 0 and bool(match)):\n",
        "      return temp_comma\n",
        "    else:  \n",
        "        return '0'\n",
        "\n",
        "def get_first_num_in_string(init: str ) -> str:\n",
        "   return re.search(r'\\d+', init)\n",
        "\n",
        "def if_in(string: str,  comp_to: str) -> bool:\n",
        "  return string.lower() in comp_to.lower()\n",
        "\n",
        "\n",
        "def create_job_dict(data: Dict,job_data: Dict) -> Dict:\n",
        "    \"\"\"\n",
        "    Create a new dictionary called job by looping through every attribute and subobject of the given dictionary.\n",
        "    \"\"\"\n",
        "    for key, value in data.items():\n",
        "      \n",
        "        if isinstance(value, dict):\n",
        "            job_data[key] = {}\n",
        "            create_job_dict(value, job_data[key])\n",
        "        else:\n",
        "            job_data[key] = value\n",
        "    # ps(job_data)\n",
        "    return job_data\n"
      ],
      "metadata": {
        "id": "o1otepp43iXp"
      },
      "execution_count": null,
      "outputs": []
    },
    {
      "cell_type": "code",
      "source": [
        "#@title Anagram Checker:\n",
        "\n",
        "def is_anagram(word1: str, word2: str) -> bool:\n",
        "    return Counter(word1) == Counter(word2)\n",
        "\n",
        "# Testing with pytest\n",
        "def test_is_anagram():\n",
        "    assert is_anagram(\"listen\", \"silent\") == True\n",
        "    assert is_anagram(\"python\", \"java\") == False\n",
        "    assert is_anagram(\"race\", \"care\") == True\n",
        "# This function takes in two words and checks if they are anagrams or not. It uses the Counter module from Python's standard library to count the frequency of each letter in both words. If the frequency of each letter in both words is equal, then the words are anagrams.\n",
        "\n",
        "test_is_anagram()"
      ],
      "metadata": {
        "id": "AibJ6qb5bIv6"
      },
      "execution_count": 22,
      "outputs": []
    },
    {
      "cell_type": "code",
      "source": [
        "#@title Sum of Even Numbers:\n",
        "def sum_of_evens(numbers: List[int]) -> int:\n",
        "    return sum(filter(lambda x: x % 2 == 0, numbers))\n",
        "\n",
        "# Testing with pytest\n",
        "def test_sum_of_evens():\n",
        "    assert sum_of_evens([1, 2, 3, 4, 5, 6, 7, 8, 9, 10]) == 30\n",
        "    assert sum_of_evens([0, 1, -2, 3, 4, -5, 6]) == 8\n",
        "\n",
        "\n",
        "test_sum_of_evens()\n",
        "# This function takes in a list of integers and returns the sum of all even numbers in the list. It uses Python's built-in sum function along with a filter function to filter out all odd numbers from the list."
      ],
      "metadata": {
        "id": "B74-46gapBh9"
      },
      "execution_count": 21,
      "outputs": []
    },
    {
      "cell_type": "code",
      "source": [
        "#@title Maximum Sum of Subarray:\n",
        "\n",
        "def max_sum_subarray(numbers: List[int]) -> int:\n",
        "    max_sum = float('-inf')\n",
        "    current_sum = 0\n",
        "    for num in numbers:\n",
        "        current_sum += num\n",
        "        max_sum = max(max_sum, current_sum)\n",
        "        current_sum = max(current_sum, 0)\n",
        "        print(f\"num={num}, current_sum={current_sum}, max_sum={max_sum}\")\n",
        "    return max_sum\n",
        "\n",
        "\n",
        "\n",
        "\n",
        "# Testing with pytest\n",
        "def test_max_sum_subarray():\n",
        "    assert max_sum_subarray([1, -2, 3, 4, -5, 6]) == 8\n",
        "    assert max_sum_subarray([5, -3, 2, 7, -1, 4]) == 14\n",
        "    \n",
        "test_max_sum_subarray()\n",
        "\n",
        "\n",
        "test_max_sum_subarray()\n",
        "# This function takes in a list of integers and returns the maximum sum of any contiguous subarray of the list.  \n",
        "#It uses the Kadane's algorithm to achieve this. The basic idea behind this algorithm is to keep track of the maximum sum that can be obtained by including each element of the list one by one. \n",
        "#The algorithm takes a constant amount of memory and runs in linear time with respect to the size of the list."
      ],
      "metadata": {
        "id": "ptwMKV5ymPAt",
        "colab": {
          "base_uri": "https://localhost:8080/"
        },
        "outputId": "0b64f42c-8523-4f9f-dfff-0dc77535e812"
      },
      "execution_count": 20,
      "outputs": [
        {
          "output_type": "stream",
          "name": "stdout",
          "text": [
            "num=1, current_sum=1, max_sum=1\n",
            "num=-2, current_sum=0, max_sum=1\n",
            "num=3, current_sum=3, max_sum=3\n",
            "num=4, current_sum=7, max_sum=7\n",
            "num=-5, current_sum=2, max_sum=7\n",
            "num=6, current_sum=8, max_sum=8\n",
            "num=5, current_sum=5, max_sum=5\n",
            "num=-3, current_sum=2, max_sum=5\n",
            "num=2, current_sum=4, max_sum=5\n",
            "num=7, current_sum=11, max_sum=11\n",
            "num=-1, current_sum=10, max_sum=11\n",
            "num=4, current_sum=14, max_sum=14\n",
            "num=1, current_sum=1, max_sum=1\n",
            "num=-2, current_sum=0, max_sum=1\n",
            "num=3, current_sum=3, max_sum=3\n",
            "num=4, current_sum=7, max_sum=7\n",
            "num=-5, current_sum=2, max_sum=7\n",
            "num=6, current_sum=8, max_sum=8\n",
            "num=5, current_sum=5, max_sum=5\n",
            "num=-3, current_sum=2, max_sum=5\n",
            "num=2, current_sum=4, max_sum=5\n",
            "num=7, current_sum=11, max_sum=11\n",
            "num=-1, current_sum=10, max_sum=11\n",
            "num=4, current_sum=14, max_sum=14\n"
          ]
        }
      ]
    },
    {
      "cell_type": "code",
      "source": [
        "#@title Processing MAC Addresses:\n",
        "\n",
        "\n",
        "\n",
        "\n",
        "\n",
        "def check_device_status(mac_address: str) -> str:\n",
        "    url = f\"http://localhost:8000/device/check/{mac_address}\"\n",
        "    response = requests.get(url)\n",
        "    return response.text\n",
        "\n",
        "def process_mac_addresses(mac_addresses: List[str]) -> List[str]:\n",
        "    \"\"\"Processes a list of MAC addresses using a pool of worker processes.\"\"\"\n",
        "    with Pool() as pool:\n",
        "     try:\n",
        "       results = pool.map(check_device_status, mac_addresses)\n",
        "       return results\n",
        "     except Exception as e:\n",
        "        print('Local Host Is Most likely Refusing Connction (Try running on local machine)',e)\n",
        "        print('Verify that the MAC address is correct and matches the device you are trying to connect to.')\n",
        "        raise ValueError(\"Error\")\n",
        "    \n",
        "\n",
        "# Assuming that the MAC addresses are stored in a file named \"mac_addresses.txt\"\n",
        "with open(\"/content/mac_addresses.txt\", \"r\") as f:\n",
        "    mac_addresses = [line.strip() for line in f]\n",
        "    results = process_mac_addresses(mac_addresses)\n",
        "\n",
        "# Do something with the results, like storing them in a database or a file.\n",
        "\n",
        "        # Do something with the status, like storing it in a database or a file.\n",
        "# This function checks the status of a network device with a given MAC address using a RESTful API. \n",
        "#It takes in a MAC address and sends a GET request to the API endpoint with the MAC address as a parameter. \n",
        "#It then returns the response from the API as a string.\n",
        "\n"
      ],
      "metadata": {
        "id": "jbZyNMn1pXrX"
      },
      "execution_count": null,
      "outputs": []
    },
    {
      "cell_type": "code",
      "source": [
        "#@title \n",
        "def check_device_status(mac_address: str) -> str:\n",
        "    \"\"\"Checks the status of a network device with a given MAC address using a RESTful API.\"\"\"\n",
        "    url = f\"http://localhost:8000/device/check/{mac_address}\"\n",
        "    response = requests.get(url)\n",
        "    return response.text\n",
        "\n",
        "def process_mac_addresses(mac_addresses: List[str]) -> List[str]:\n",
        "    \"\"\"Processes a list of MAC addresses using a pool of worker processes.\"\"\"\n",
        "    with Pool() as pool:\n",
        "        results = pool.map(check_device_status, mac_addresses)\n",
        "    return results\n",
        "\n",
        "#     We start by defining the check_device_status function, which takes in a MAC address and returns the response from the API as a string.\n",
        "\n",
        "# Next, we define the process_mac_addresses function, which takes in a list of MAC addresses and processes them using a pool of worker processes. We use the Pool class from the multiprocessing module to create a pool of worker processes. We then use the map method of the pool object to apply the check_device_status function to each MAC address in the list. The map method returns a list of results, which we store in the results variable. Finally, we return the results list.\n",
        "\n",
        "# This implementation allows us to process a large set of MAC addresses concurrently, minimizing runtime and resource usage. We can also easily generalize this approach to work with other types of processing tasks by simply replacing the check_device_status function with a different processing function."
      ],
      "metadata": {
        "id": "DbgUHhlQpYMG"
      },
      "execution_count": null,
      "outputs": []
    },
    {
      "cell_type": "markdown",
      "source": [
        "# Deprecated Code"
      ],
      "metadata": {
        "id": "8-65_PWQUc8Y"
      }
    },
    {
      "cell_type": "markdown",
      "source": [
        "# May Need"
      ],
      "metadata": {
        "id": "vL8ssHKRVR9O"
      }
    },
    {
      "cell_type": "markdown",
      "source": [
        "# Conclusion"
      ],
      "metadata": {
        "id": "BfYDwI21zYWU"
      }
    },
    {
      "cell_type": "markdown",
      "source": [
        "#Hypothesis 1\n",
        "1. Observation: We need to write Python code to solve several problems such as determining if a pair of words are anagrams, calculating the sum of even numbers in a list of integers, finding the maximum sum of any contiguous subarray of a list of integers, and processing a large set of MAC addresses using a RESTful API.\n",
        "\n",
        "2. Question: How can we write Python code to efficiently solve each of these problems?\n",
        "\n",
        "3. Hypothesis: I hypothesize that we can efficiently solve each of these problems by writing Python code that uses optimized algorithms and adheres to best practices, such as using type checking and testing with the pytest library.\n",
        "\n",
        "4. Prediction: By following best practices and using efficient algorithms, we will be able to write Python code that solves each of these problems in a timely and accurate manner.\n",
        "\n",
        "5. Experimentation: We will write Python code for each problem using best practices and optimized algorithms, and test each function using the pytest library. We will also measure the runtime of each function to ensure that they are efficient.\n",
        "6. Analysis: After running experiments, we will analyze the results to determine if our hypothesis was correct. We will compare the runtime of our functions with other potential solutions and assess the accuracy of our results.\n",
        "\n",
        "7. Conclusion: Based on our experimentation and analysis, we will draw a conclusion about the effectiveness of our Python code in solving each of these problems. We will determine if our hypothesis was correct and if our Python code adheres to best practices and is efficient. We will also identify any areas for improvement and suggest ways to optimize the code for better performance.  \n",
        "\n"
      ],
      "metadata": {
        "id": "NhDBYMVAVaBr"
      }
    }
  ]
}